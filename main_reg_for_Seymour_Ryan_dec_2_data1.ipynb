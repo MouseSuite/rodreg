{
 "cells": [
  {
   "cell_type": "code",
   "execution_count": 1,
   "metadata": {},
   "outputs": [],
   "source": [
    "import nilearn.image as ni\n",
    "import nibabel as nb\n",
    "from nilearn.plotting import plot_anat, plot_prob_atlas, show, plot_stat_map\n",
    "import SimpleITK as sitk\n",
    "from utils import pad_nifti_image, multires_registration, interpolate_zeros\n",
    "from aligner import Aligner\n",
    "from warp_utils import apply_warp\n",
    "import numpy as np\n",
    "from monai.transforms import LoadImage, EnsureChannelFirst\n",
    "from warper import Warper\n",
    "\n",
    "\n",
    "\n",
    "# %matplotlib notebook\n",
    "# import gui\n"
   ]
  },
  {
   "cell_type": "code",
   "execution_count": 2,
   "metadata": {},
   "outputs": [],
   "source": [
    "#subbase = \"/deneb_disk/RodentTools/data/test4/29408.native\"#\n",
    "subbase=\"/deneb_disk/RodentTools/data/from_Seymour/Dec_2_from_Ryan/New T2/52_RARE_T2_3D/New_T2_A06_RARE_T2_3D_20241121092442_90001_reoriened_p1mm\"\n",
    "\n",
    "sub_bse_t2 = \"/deneb_disk/RodentTools/data/from_Seymour/Dec_2_from_Ryan/New T2/52_RARE_T2_3D/New_T2_A06_RARE_T2_3D_20241121092442_90001_reoriened_p1mm.bse.nii.gz\" #subbase+\".bfc.nii.gz\"\n",
    "\n",
    "atlas_bse_t2 = \"/deneb_disk/RodentTools/Atlases/Waxholm/WHS_SD_rat_atlas_v4_pack/WHS_SD_rat_T2star_v1.01.bse.nii.gz\"\n",
    "atlas_labels = \"/deneb_disk/RodentTools/Atlases/Waxholm/WHS_SD_rat_atlas_v4_pack/WHS_SD_rat_atlas_v4.nii.gz\"\n",
    "\n",
    "centered_atlas = subbase+\".atlas.cent.nii.gz\"\n",
    "centered_atlas_labels = subbase+\".atlas.cent.label.nii.gz\"\n",
    "cent_transform_file = subbase+\".cent.reg.tfm\"\n",
    "inv_cent_transform_file = subbase+\".cent.reg.inv.tfm\"\n",
    "centered_atlas_linreg = subbase+\".atlas.lin.nii.gz\"\n",
    "centered_atlas_linreg_labels = subbase+\".atlas.lin.label.nii.gz\"\n",
    "lin_reg_map_file = subbase+\".lin_ddf.map.nii.gz\"\n"
   ]
  },
  {
   "cell_type": "code",
   "execution_count": 3,
   "metadata": {},
   "outputs": [],
   "source": [
    "\n",
    "nonlin_reg_map_file = subbase+\".nonlin_ddf.map.nii.gz\"\n",
    "inv_nonlin_reg_map_file = subbase+\".inv.nonlin_ddf.map.nii.gz\"\n",
    "centered_atlas_nonlinreg = subbase+\".atlas.nonlin.nii.gz\"\n",
    "centered_atlas_nonlinreg_labels = subbase+\".atlas.nonlin.label.nii.gz\"\n",
    "jac_det_file = subbase+\".jacobian_det.nii.gz\"\n",
    "inv_jac_det_file = subbase+\".inv.jacobian_det.nii.gz\""
   ]
  },
  {
   "cell_type": "code",
   "execution_count": null,
   "metadata": {},
   "outputs": [],
   "source": [
    "\n",
    "plot_anat(sub_bse_t2)\n",
    "d = plot_anat(atlas_bse_t2)\n",
    "d.add_contours(atlas_labels, cmap=\"prism\")\n"
   ]
  },
  {
   "cell_type": "code",
   "execution_count": null,
   "metadata": {},
   "outputs": [],
   "source": [
    "plot_anat(sub_bse_t2, vmax=np.percentile(nb.load(sub_bse_t2).get_fdata(), 99.9),vmin=0)\n"
   ]
  },
  {
   "cell_type": "code",
   "execution_count": null,
   "metadata": {},
   "outputs": [],
   "source": [
    "fixed_image = sitk.ReadImage(sub_bse_t2, sitk.sitkFloat32)\n",
    "moving_image = sitk.ReadImage(atlas_bse_t2, sitk.sitkFloat32)\n",
    "initial_transform = sitk.CenteredTransformInitializer(\n",
    "    fixed_image,\n",
    "    moving_image,\n",
    "    sitk.Euler3DTransform(),\n",
    "    sitk.CenteredTransformInitializerFilter.GEOMETRY,\n",
    ")\n",
    "\n",
    "final_transform, _ = multires_registration(\n",
    "    fixed_image, moving_image, initial_transform)\n",
    "\n",
    "\n",
    "# save the transformation in a file\n",
    "sitk.WriteTransform(final_transform, cent_transform_file)\n",
    "\n",
    "# invert the transform and also save to a file\n",
    "inv_transform = final_transform.GetInverse()\n",
    "sitk.WriteTransform(inv_transform, inv_cent_transform_file)\n",
    "\n",
    "# load from the file and apply the transformation\n",
    "final_transform = sitk.ReadTransform(cent_transform_file)\n",
    "moved_image = sitk.Resample(moving_image, fixed_image, final_transform)\n",
    "\n",
    "sitk.WriteImage(moved_image, centered_atlas)\n",
    "\n",
    "moving_image = sitk.ReadImage(atlas_labels, sitk.sitkUInt16)\n",
    "moved_image = sitk.Resample(\n",
    "    moving_image,\n",
    "    fixed_image,\n",
    "    transform=final_transform,\n",
    "    interpolator=sitk.sitkNearestNeighbor,\n",
    ")\n",
    "sitk.WriteImage(moved_image, centered_atlas_labels)\n",
    "\n",
    "\n"
   ]
  },
  {
   "cell_type": "code",
   "execution_count": null,
   "metadata": {},
   "outputs": [],
   "source": [
    "\n",
    "plot_anat(centered_atlas)\n",
    "plot_anat(sub_bse_t2, vmax = np.percentile(nb.load(sub_bse_t2).get_fdata(), 99.9),vmin=0)\n",
    "plot_anat(centered_atlas_labels, cmap='prism')\n",
    "\n",
    "show()"
   ]
  },
  {
   "cell_type": "code",
   "execution_count": null,
   "metadata": {},
   "outputs": [],
   "source": [
    "aligner = Aligner()\n",
    "aligner.affine_reg(\n",
    "    fixed_file=sub_bse_t2,\n",
    "    moving_file=centered_atlas,\n",
    "    output_file=centered_atlas_linreg,\n",
    "    ddf_file=lin_reg_map_file,\n",
    "    loss=\"cc\",\n",
    ")\n"
   ]
  },
  {
   "cell_type": "code",
   "execution_count": null,
   "metadata": {},
   "outputs": [],
   "source": [
    "\n",
    "plot_anat(sub_bse_t2, vmax=np.percentile(nb.load(sub_bse_t2).get_fdata(), 99),vmin=0)\n",
    "plot_anat(centered_atlas, vmax=np.percentile(nb.load(centered_atlas).get_fdata(), 99),vmin=0)\n",
    "plot_anat(centered_atlas_linreg, vmax=np.percentile(nb.load(centered_atlas_linreg).get_fdata(), 99),vmin=0)\n"
   ]
  },
  {
   "cell_type": "code",
   "execution_count": null,
   "metadata": {},
   "outputs": [],
   "source": [
    "disp_field, meta = LoadImage(image_only=False)(lin_reg_map_file)\n",
    "disp_field = EnsureChannelFirst()(disp_field)\n",
    "print(disp_field.shape)\n",
    "\n",
    "at1, meta = LoadImage(image_only=False)(centered_atlas_labels)\n",
    "at_lab = EnsureChannelFirst()(at1)\n",
    "print(at_lab.shape)\n",
    "\n",
    "warped_lab = apply_warp(\n",
    "    disp_field[None,], at_lab[None,], at_lab[None,], interp_mode=\"nearest\"\n",
    ")\n",
    "nb.save(\n",
    "    nb.Nifti1Image(warped_lab[0, 0].detach().cpu().numpy(), at_lab.affine),\n",
    "    centered_atlas_linreg_labels,\n",
    ")\n"
   ]
  },
  {
   "cell_type": "code",
   "execution_count": null,
   "metadata": {},
   "outputs": [],
   "source": [
    "d = plot_anat(sub_bse_t2, vmax=np.percentile(nb.load(sub_bse_t2).get_fdata(), 99),vmin=0)\n",
    "d.add_contours(centered_atlas_labels, cmap=\"prism\")\n",
    "d = plot_anat(sub_bse_t2, vmax=np.percentile(nb.load(sub_bse_t2).get_fdata(), 99.95),vmin=np.percentile(nb.load(sub_bse_t2).get_fdata(), 15))\n",
    "d.add_contours(centered_atlas_linreg_labels, cmap=\"hsv\")\n"
   ]
  },
  {
   "cell_type": "code",
   "execution_count": null,
   "metadata": {},
   "outputs": [],
   "source": [
    "nonlin_reg = Warper()\n",
    "nonlin_reg.nonlinear_reg(\n",
    "    target_file=sub_bse_t2,\n",
    "    moving_file=centered_atlas_linreg,\n",
    "    output_file=centered_atlas_nonlinreg,\n",
    "    ddf_file=nonlin_reg_map_file,\n",
    "    inv_ddf_file=inv_nonlin_reg_map_file,\n",
    "    reg_penalty=1,\n",
    "    nn_input_size=64,\n",
    "    lr=1e-4,\n",
    "    max_epochs=5000,\n",
    "    loss=\"cc\",\n",
    "    jacobian_determinant_file=jac_det_file,\n",
    "    inv_jacobian_determinant_file=inv_jac_det_file,\n",
    ")\n"
   ]
  },
  {
   "cell_type": "code",
   "execution_count": null,
   "metadata": {},
   "outputs": [],
   "source": [
    "disp_field, meta = LoadImage(image_only=False)(nonlin_reg_map_file)\n",
    "disp_field = EnsureChannelFirst()(disp_field)\n",
    "print(disp_field.shape)\n",
    "\n",
    "at1, meta = LoadImage(image_only=False)(centered_atlas_linreg_labels)\n",
    "at_lab = EnsureChannelFirst()(at1)\n",
    "print(at_lab.shape)\n",
    "\n",
    "warped_lab = apply_warp(\n",
    "    disp_field[None,], at_lab[None,], at_lab[None,], interp_mode=\"nearest\"\n",
    ")\n",
    "nb.save(\n",
    "    nb.Nifti1Image(\n",
    "        np.uint16(warped_lab[0, 0].detach().cpu().numpy()), at_lab.affine),\n",
    "    centered_atlas_nonlinreg_labels,\n",
    ")\n"
   ]
  },
  {
   "cell_type": "code",
   "execution_count": null,
   "metadata": {},
   "outputs": [],
   "source": [
    "d = plot_anat(sub_bse_t2, vmax=np.percentile(nb.load(sub_bse_t2).get_fdata(), 99),vmin=0)\n",
    "d.add_contours(centered_atlas_linreg_labels, cmap=\"prism\")\n",
    "d = plot_anat(sub_bse_t2, vmax=np.percentile(nb.load(sub_bse_t2).get_fdata(), 99),vmin=0)\n",
    "d.add_contours(centered_atlas_nonlinreg_labels, cmap=\"prism\")\n"
   ]
  },
  {
   "cell_type": "code",
   "execution_count": null,
   "metadata": {},
   "outputs": [],
   "source": [
    "plot_anat(jac_det_file, colorbar=True)\n",
    "\n",
    "jac=nb.load(jac_det_file)\n",
    "jac = jac.get_fdata() - 1\n",
    "\n",
    "from nilearn.image import new_img_like\n",
    "jac = new_img_like(sub_bse_t2,jac)\n",
    "plot_stat_map(jac,sub_bse_t2,title='Jac det')"
   ]
  },
  {
   "cell_type": "code",
   "execution_count": null,
   "metadata": {},
   "outputs": [],
   "source": [
    "plot_anat(inv_jac_det_file, colorbar=True)\n",
    "\n",
    "jac=nb.load(inv_jac_det_file)\n",
    "jac = jac.get_fdata() - 1\n",
    "\n",
    "from nilearn.image import new_img_like\n",
    "jac = new_img_like(sub_bse_t2,jac)\n",
    "plot_stat_map(jac,sub_bse_t2,title='Jac det inv')\n"
   ]
  }
 ],
 "metadata": {
  "kernelspec": {
   "display_name": "my_venv",
   "language": "python",
   "name": "python3"
  },
  "language_info": {
   "codemirror_mode": {
    "name": "ipython",
    "version": 3
   },
   "file_extension": ".py",
   "mimetype": "text/x-python",
   "name": "python",
   "nbconvert_exporter": "python",
   "pygments_lexer": "ipython3",
   "version": "3.11.2"
  }
 },
 "nbformat": 4,
 "nbformat_minor": 2
}
